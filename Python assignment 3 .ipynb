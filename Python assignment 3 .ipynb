{
 "cells": [
  {
   "cell_type": "markdown",
   "id": "9be172f5-f28f-46d6-a6f1-641ce29650c0",
   "metadata": {},
   "source": [
    "## Assignment 3"
   ]
  },
  {
   "cell_type": "markdown",
   "id": "15929e9d-0046-4698-a7e4-185a82710497",
   "metadata": {},
   "source": [
    "1) Why are functions advantageous to have in your programs?"
   ]
  },
  {
   "cell_type": "markdown",
   "id": "f449e6d5-7845-47a8-957f-f69079c38810",
   "metadata": {},
   "source": [
    "- Functions reduce the need for duplicate code. This makes programs shorter, easier to read, and easier to update."
   ]
  },
  {
   "cell_type": "markdown",
   "id": "5503f715-bddc-4fd6-b297-65d9e818614d",
   "metadata": {},
   "source": [
    "2) When does the code in a function run: when it's specified or when it's called?"
   ]
  },
  {
   "cell_type": "markdown",
   "id": "302cb8f2-1bad-4ac1-ac59-6cecb9314a3b",
   "metadata": {},
   "source": [
    "- A function is a block of code which only runs when it is called. You can pass data, known as parameters, into a function. A function can return data as a result"
   ]
  },
  {
   "cell_type": "markdown",
   "id": "786784cd-500d-45b6-8451-d0abbfb091d2",
   "metadata": {},
   "source": [
    "3) What statement creates a function?"
   ]
  },
  {
   "cell_type": "markdown",
   "id": "29f2c285-933a-4cc2-b22c-e9d64f8e9249",
   "metadata": {},
   "source": [
    "- Def Statement\n",
    "\n",
    "- The “def” call creates the function object and assigns it to the name given. You can further re-assign the same function object to other names"
   ]
  },
  {
   "cell_type": "markdown",
   "id": "94153b13-fb96-483c-8ea2-9ae27040fa4a",
   "metadata": {},
   "source": [
    "4) What is the difference between a function and a function call?"
   ]
  },
  {
   "cell_type": "markdown",
   "id": "2fef9d97-39e0-489c-a08f-eda21aaf19dd",
   "metadata": {},
   "source": [
    "- A function is a block of code that does a particular operation and returns a result. It usually accepts inputs as parameters and returns a result. The parameters are not mandatory.\n",
    "\n",
    "A function call is the code used to pass control to a function."
   ]
  },
  {
   "cell_type": "markdown",
   "id": "f94ada0e-53b7-4a54-88d6-ee5c2f3d8a08",
   "metadata": {},
   "source": [
    "5) How many global scopes are there in a Python program? How many local scopes?"
   ]
  },
  {
   "cell_type": "markdown",
   "id": "7d40bfd9-49c5-4a63-9499-426768b75cf6",
   "metadata": {},
   "source": [
    "- At any given time during execution, you'll have at most four active Python scopes—local, enclosing, global, and built in depending on where you are in the code. On the other hand, you'll always have at least two active scopes, which are the global and built-in scopes."
   ]
  },
  {
   "cell_type": "markdown",
   "id": "99a3d3cf-6c33-420d-88dd-2f9e6cc5e22d",
   "metadata": {},
   "source": [
    "6) What happens to variables in a local scope when the function call returns?"
   ]
  },
  {
   "cell_type": "markdown",
   "id": "eeb1026a-a2c1-4524-9e64-5d28223000a6",
   "metadata": {},
   "source": [
    "- When the execution of the function terminates (returns), the local variables are destroyed."
   ]
  },
  {
   "cell_type": "markdown",
   "id": "24217f27-d64b-4799-af35-3852f23d99de",
   "metadata": {},
   "source": [
    "7) What is the concept of a return value? Is it possible to have a return value in an expression?"
   ]
  },
  {
   "cell_type": "markdown",
   "id": "6fd35278-acd4-4c87-a173-0883d0839588",
   "metadata": {},
   "source": [
    "- A return is a value that a function returns to the calling script or function when it completes its task\n",
    "\n",
    "- A Python function will always have a return value. There is no notion of procedure or routine in Python. So, if you don't explicitly use a return value in a return statement, or if you totally omit the return statement, then Python will implicitly return a default value for you."
   ]
  },
  {
   "cell_type": "markdown",
   "id": "f66aa881-a960-4b10-8046-0980a14cc00d",
   "metadata": {},
   "source": [
    "8) If a function does not have a return statement, what is the return value of a call to that function?"
   ]
  },
  {
   "cell_type": "markdown",
   "id": "085e770e-e1f6-4871-939a-526396b61497",
   "metadata": {},
   "source": [
    "- In this case, the return value of the called function is undefined."
   ]
  },
  {
   "cell_type": "markdown",
   "id": "61ceb9d5-5f83-4bc1-a174-05e9135bf223",
   "metadata": {},
   "source": [
    "9) How do you make a function variable refer to the global variable?"
   ]
  },
  {
   "cell_type": "markdown",
   "id": "6fea6216-be3b-4a03-b95b-7b4977b8aee2",
   "metadata": {},
   "source": [
    "- To create a global variable inside a function, you can use the global keyword."
   ]
  },
  {
   "cell_type": "markdown",
   "id": "ec97f8f1-10ec-4398-8933-aebc5ee7b6f2",
   "metadata": {},
   "source": [
    "10) What is the data type of None?"
   ]
  },
  {
   "cell_type": "markdown",
   "id": "052e44f1-918b-4a35-a999-40e08df32bea",
   "metadata": {},
   "source": [
    "- None is a data type of its own (NoneType) and only None can be None."
   ]
  },
  {
   "cell_type": "markdown",
   "id": "64ce7908-1c60-4f11-a3a1-c5fdc710ee0d",
   "metadata": {},
   "source": [
    "11) What does the sentence import areallyourpetsnamederic do?"
   ]
  },
  {
   "cell_type": "markdown",
   "id": "37a14902-2755-4238-ad02-270485d0c699",
   "metadata": {},
   "source": [
    "- That import statement imports a module named areallyourpetsnamederic."
   ]
  },
  {
   "cell_type": "markdown",
   "id": "b3ec7710-aed0-4fc5-9ebb-14d30f290538",
   "metadata": {},
   "source": [
    "12) If you had a bacon() feature in a spam module, what would you call it after importing spam?"
   ]
  },
  {
   "cell_type": "markdown",
   "id": "6c923a43-5f92-4246-846f-75769c34d8af",
   "metadata": {},
   "source": [
    "- This function can be called with spam. bacon()."
   ]
  },
  {
   "cell_type": "markdown",
   "id": "7cb881de-fc34-4e85-a374-5d7a8883e26a",
   "metadata": {},
   "source": [
    "13) What can you do to save a programme from crashing if it encounters an error?"
   ]
  },
  {
   "cell_type": "markdown",
   "id": "7df2a1e9-da00-4840-b709-99e531ac2435",
   "metadata": {},
   "source": [
    "- When it encounters an error, the control is passed to the except block, skipping the code in between. As seen in the above code, we have moved our code inside a try and except statement. Try running the program and it should throw an error message instead of crashing the program"
   ]
  },
  {
   "cell_type": "markdown",
   "id": "3a7ae2ec-65e7-4874-a824-33ac4d523532",
   "metadata": {},
   "source": [
    "14) What is the purpose of the try clause? What is the purpose of the except clause?"
   ]
  },
  {
   "cell_type": "markdown",
   "id": "6b6c441b-3174-4a61-8abb-56c09e78fb83",
   "metadata": {},
   "source": [
    "- The try block lets you test a block of code for errors. The except block lets you handle the error. The else block lets you execute code when there is no error. The finally block lets you execute code, regardless of the result of the try- and except blocks.\n"
   ]
  },
  {
   "cell_type": "code",
   "execution_count": null,
   "id": "8c27f681-d4f3-4914-846b-fcbbf2613447",
   "metadata": {},
   "outputs": [],
   "source": []
  }
 ],
 "metadata": {
  "kernelspec": {
   "display_name": "Python 3 (ipykernel)",
   "language": "python",
   "name": "python3"
  },
  "language_info": {
   "codemirror_mode": {
    "name": "ipython",
    "version": 3
   },
   "file_extension": ".py",
   "mimetype": "text/x-python",
   "name": "python",
   "nbconvert_exporter": "python",
   "pygments_lexer": "ipython3",
   "version": "3.10.6"
  }
 },
 "nbformat": 4,
 "nbformat_minor": 5
}
